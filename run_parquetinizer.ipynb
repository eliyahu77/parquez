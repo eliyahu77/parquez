{
 "cells": [
  {
   "cell_type": "code",
   "execution_count": null,
   "metadata": {},
   "outputs": [],
   "source": []
  },
  {
   "cell_type": "code",
   "execution_count": 23,
   "metadata": {},
   "outputs": [],
   "source": [
    "params = {'view_name':'view_name'\n",
    "         ,'partition_by':'h'\n",
    "         ,'partition_interval':'1h'\n",
    "         ,'real_time_window':'3h'\n",
    "         ,'historical_retention':'7d'\n",
    "         ,'real_time_table_name':'faker'\n",
    "         ,'config_path':'/User/parquez/config/parquez.ini'}"
   ]
  },
  {
   "cell_type": "code",
   "execution_count": 24,
   "metadata": {},
   "outputs": [],
   "source": [
    "def create_cron_string(params):\n",
    "    import re\n",
    "    PARTITION_BY_RE = r\"([0-9]+)([a-zA-Z]+)\"\n",
    "    m = re.match(PARTITION_BY_RE, params.get(\"partition_interval\"))\n",
    "    if m.group(2) == 'm':\n",
    "        result = \"*/\" + m.group(1) + \" * * * * \"\n",
    "    if m.group(2) == 'h':\n",
    "        result = \"0 \" + \"*/\" + m.group(1) + \" * * * \"\n",
    "    if m.group(2) == 'd':\n",
    "        if m.group(1) == 1:\n",
    "            result = \"0 0 \" + \"* * * \"\n",
    "        else:\n",
    "            result = \"0 0 \" + \"*/\" + m.group(1) + \" * * \"\n",
    "    if m.group(2) == 'M':\n",
    "        result = \"0 0 0\" + \"*/\" + m.group(1) + \" * \"\n",
    "    if m.group(2) == 'DW':\n",
    "        result = \"0 0 0 0 \" + \"*/\" + m.group(1)\n",
    "    return result"
   ]
  },
  {
   "cell_type": "code",
   "execution_count": 25,
   "metadata": {},
   "outputs": [
    {
     "name": "stdout",
     "output_type": "stream",
     "text": [
      "0 */1 * * * \n"
     ]
    }
   ],
   "source": [
    "cron_string = create_cron_string(params) \n",
    "print(cron_string)"
   ]
  },
  {
   "cell_type": "code",
   "execution_count": 26,
   "metadata": {},
   "outputs": [
    {
     "name": "stdout",
     "output_type": "stream",
     "text": [
      "Project path: /User/parquez\n",
      "Project name: parquez\n"
     ]
    }
   ],
   "source": [
    "from os import path, getenv\n",
    "from mlrun import new_project, mlconf\n",
    "\n",
    "#project_name = '-'.join(filter(None, ['getting-started-iris', getenv('V3IO_USERNAME', None)]))\n",
    "project_name = \"parquez\"\n",
    "project_path = path.abspath('./')\n",
    "project = new_project(project_name, project_path)\n",
    "project.save()\n",
    "print(f'Project path: {project_path}\\nProject name: {project_name}')"
   ]
  },
  {
   "cell_type": "code",
   "execution_count": 27,
   "metadata": {},
   "outputs": [],
   "source": [
    "out = mlconf.artifact_path or path.abspath('./data')\n",
    "# {{run.uid}} will be substituted with the run id, so output will be written to different directoried per run\n",
    "artifact_path = path.join(out, '{{run.uid}}')"
   ]
  },
  {
   "cell_type": "code",
   "execution_count": 28,
   "metadata": {},
   "outputs": [
    {
     "name": "stdout",
     "output_type": "stream",
     "text": [
      "env: PYTHONPATH=./\n"
     ]
    }
   ],
   "source": [
    "%env PYTHONPATH=./"
   ]
  },
  {
   "cell_type": "code",
   "execution_count": 29,
   "metadata": {},
   "outputs": [
    {
     "data": {
      "text/plain": [
       "<mlrun.runtimes.kubejob.KubejobRuntime at 0x7febebe6a350>"
      ]
     },
     "execution_count": 29,
     "metadata": {},
     "output_type": "execute_result"
    }
   ],
   "source": [
    "project.set_function(\"run_parquez_interval.py\", 'crontab', kind='job', image='aviaigz/parquez')"
   ]
  },
  {
   "cell_type": "code",
   "execution_count": 30,
   "metadata": {},
   "outputs": [],
   "source": [
    "from mlrun import run_local, mount_v3io"
   ]
  },
  {
   "cell_type": "code",
   "execution_count": 31,
   "metadata": {},
   "outputs": [],
   "source": [
    "project.func('crontab').apply(mount_v3io())\n",
    "project.func('crontab').set_env('PYTHONPATH', project_path)\n",
    "project.func('crontab').spec.artifact_path = 'User/artifacts'\n",
    "project.func('crontab').spec.service_account='mlrun-api'"
   ]
  },
  {
   "cell_type": "code",
   "execution_count": null,
   "metadata": {},
   "outputs": [
    {
     "name": "stdout",
     "output_type": "stream",
     "text": [
      "[mlrun] 2020-07-21 17:07:33,263 starting run crontab uid=9a9b18499d91409e94d8ec232dcb0eab  -> http://mlrun-api:8080\n",
      "[mlrun] 2020-07-21 17:07:33,594 Job is running in the background, pod: crontab-ztbvs\n",
      "[mlrun] 2020-07-21 17:07:41,536 warning!, server (0.4.10) and client (0.4.9) ver dont match\n",
      "[mlrun] 2020-07-21 17:07:41,581 starting local run: main.py # main\n"
     ]
    }
   ],
   "source": [
    "artifact_path = '/User/artifacts'\n",
    "# #project.func('parquezrun').run()\n",
    "project.func('crontab').run( params = {'view_name':'view_name'\n",
    "         ,'partition_by':'h'\n",
    "         ,'partition_interval':'1h'\n",
    "         ,'real_time_window':'3h'\n",
    "         ,'historical_retention':'7d'\n",
    "         ,'real_time_table_name':'faker'\n",
    "         ,'config_path':'/User/parquez/config/parquez.ini'},artifact_path=artifact_path,)"
   ]
  },
  {
   "cell_type": "code",
   "execution_count": null,
   "metadata": {},
   "outputs": [],
   "source": []
  },
  {
   "cell_type": "code",
   "execution_count": null,
   "metadata": {},
   "outputs": [],
   "source": []
  },
  {
   "cell_type": "code",
   "execution_count": null,
   "metadata": {},
   "outputs": [],
   "source": []
  },
  {
   "cell_type": "code",
   "execution_count": null,
   "metadata": {},
   "outputs": [],
   "source": []
  },
  {
   "cell_type": "code",
   "execution_count": null,
   "metadata": {},
   "outputs": [],
   "source": []
  },
  {
   "cell_type": "code",
   "execution_count": null,
   "metadata": {},
   "outputs": [],
   "source": []
  },
  {
   "cell_type": "code",
   "execution_count": null,
   "metadata": {},
   "outputs": [],
   "source": []
  }
 ],
 "metadata": {
  "kernelspec": {
   "display_name": "Python 3",
   "language": "python",
   "name": "python3"
  },
  "language_info": {
   "codemirror_mode": {
    "name": "ipython",
    "version": 3
   },
   "file_extension": ".py",
   "mimetype": "text/x-python",
   "name": "python",
   "nbconvert_exporter": "python",
   "pygments_lexer": "ipython3",
   "version": "3.7.6"
  }
 },
 "nbformat": 4,
 "nbformat_minor": 4
}
